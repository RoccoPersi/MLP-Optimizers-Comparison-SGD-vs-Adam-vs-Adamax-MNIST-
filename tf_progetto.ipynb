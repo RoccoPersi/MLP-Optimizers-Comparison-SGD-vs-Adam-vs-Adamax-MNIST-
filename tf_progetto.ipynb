{
 "cells": [
  {
   "cell_type": "code",
   "execution_count": null,
   "metadata": {},
   "outputs": [],
   "source": [
    "import tensorflow as tf\n",
    "import numpy as np \n",
    "import matplotlib.pyplot as plt\n",
    "import time"
   ]
  },
  {
   "cell_type": "code",
   "execution_count": null,
   "metadata": {},
   "outputs": [],
   "source": [
    "import seaborn as sns"
   ]
  },
  {
   "cell_type": "code",
   "execution_count": null,
   "metadata": {},
   "outputs": [],
   "source": [
    "class TimeHistory(tf.keras.callbacks.Callback):\n",
    "    def on_train_begin(self, logs=None):\n",
    "        self.epoch_times = []\n",
    "\n",
    "    def on_epoch_begin(self, epoch, logs=None):\n",
    "        self.start_time = time.time()\n",
    "\n",
    "    def on_epoch_end(self, epoch, logs=None):\n",
    "        self.epoch_times.append(time.time() - self.start_time)\n",
    "        \n",
    "    def get_epoch_times(self):\n",
    "        return self.epoch_times"
   ]
  },
  {
   "cell_type": "code",
   "execution_count": null,
   "metadata": {},
   "outputs": [],
   "source": [
    "def load_mnist_data(path):\n",
    "    with np.load(path, allow_pickle=True) as f:\n",
    "        x_train, y_train = f['x_train'], f['y_train']\n",
    "        x_test, y_test = f['x_test'], f['y_test']\n",
    "\n",
    "    x_train = x_train.reshape(-1, 28 * 28, 1).astype(np.float32) / 255.0\n",
    "    x_test = x_test.reshape(-1, 28 * 28, 1).astype(np.float32) / 255.0\n",
    " \n",
    "\n",
    "    #training_data = list(zip(x_train, y_train))\n",
    "    #test_data = list(zip(x_test, y_test))\n",
    "\n",
    "    return x_train, x_test, y_train, y_test"
   ]
  },
  {
   "cell_type": "code",
   "execution_count": null,
   "metadata": {},
   "outputs": [],
   "source": [
    "# Parametri comuni\n",
    "n_epochs = 10\n",
    "mini_batch_size = 30\n",
    "eta = 0.001"
   ]
  },
  {
   "cell_type": "code",
   "execution_count": null,
   "metadata": {},
   "outputs": [],
   "source": [
    "plt.figure(figsize=(12, 5))\n",
    "plt.subplot(1,2,1)\n",
    "plt.plot(history_nsgd.history['accuracy'], label='Training Accuracy SGD')\n",
    "plt.plot(history_nsgd.history['val_accuracy'], label='Validation Accuracy SGD')\n",
    "plt.plot(history_adam_n.history['accuracy'], label='Training Accuracy Adam')\n",
    "plt.plot(history_adam_n.history['val_accuracy'], label='Validation Accuracy Adam')\n",
    "plt.xlabel('Epochs')\n",
    "plt.ylabel('Accuracy')\n",
    "plt.legend()\n",
    "plt.title('Accuracy Comparison N Layers')\n",
    "\n",
    "plt.subplot(1,2,2)\n",
    "plt.plot(time_n.epoch_times, label='Epoch Training SGD')\n",
    "plt.plot(time_n_adam.epoch_times, label='Epoch Training Adam')\n",
    "plt.xlabel('Epochs')\n",
    "plt.ylabel('Time')\n",
    "plt.legend()\n",
    "plt.title('Time Comparison N Layers')\n",
    "\n",
    "plt.tight_layout()\n",
    "plt.show()"
   ]
  }
 ],
 "metadata": {
  "kernelspec": {
   "display_name": "Python 3",
   "language": "python",
   "name": "python3"
  },
  "language_info": {
   "codemirror_mode": {
    "name": "ipython",
    "version": 3
   },
   "file_extension": ".py",
   "mimetype": "text/x-python",
   "name": "python",
   "nbconvert_exporter": "python",
   "pygments_lexer": "ipython3",
   "version": "3.12.2"
  }
 },
 "nbformat": 4,
 "nbformat_minor": 2
}
